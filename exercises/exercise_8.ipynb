{
 "cells": [
  {
   "cell_type": "markdown",
   "metadata": {},
   "source": [
    "**Exercise 8**\n",
    "\n",
    "Load and analyze the IMU data for `subject_id = \"pp001\"` and use tug as `task_name = \"tug\"` using the Kiel Motion Analysis Toolbox.\n",
    "\n",
    "- Change the `task_name` in the provided code to `tug`.\n",
    "- Load the IMU data from subject `pp001`.\n",
    "- Extract the pelvis acceleration data and visualize it.\n",
    "- Apply the Paraschiv-Ionescu gait sequence detection algorithm to identify gait sequences in the new data.\n",
    "- Print the detected gait sequences and any events associated with them.\n"
   ]
  }
 ],
 "metadata": {
  "language_info": {
   "name": "python"
  }
 },
 "nbformat": 4,
 "nbformat_minor": 2
}
