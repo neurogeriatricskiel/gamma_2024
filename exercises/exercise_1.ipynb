{
 "cells": [
  {
   "cell_type": "markdown",
   "metadata": {},
   "source": [
    "**Exercise 1**\n",
    "\n",
    "- Create a variable `my_name` and assign your name as a string.\n",
    "- Create two variables `a` and `b`, assign them values of your choice, and print their sum and product."
   ]
  }
 ],
 "metadata": {
  "language_info": {
   "name": "python"
  }
 },
 "nbformat": 4,
 "nbformat_minor": 2
}
