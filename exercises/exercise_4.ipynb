{
 "cells": [
  {
   "cell_type": "markdown",
   "metadata": {},
   "source": [
    "**Exercise 4**\n",
    "\n",
    "- Create a variable `step_count` and assign it a value representing the number of steps taken in a minute (e.g.: step_count = 60).\n",
    "\n",
    "- Write an if-else statement that categorizes the activity level (`activity_level`) based on the step count:\n",
    "   - Less than 50 steps: print \"Sedentary\"\n",
    "   - Between 50 and 100 steps: print \"Light activity\"\n",
    "   - Between 100 steps: print \"Moderate-vigorous activity\"\n",
    "\n",
    "**Tip**: You need to use if-else statement as follows:\n",
    "```python\n",
    "if condition_1:\n",
    "    # Code to execute if condition_1 is true\n",
    "elif condition_2:\n",
    "    # Code to execute if condition_2 is true\n",
    "else:\n",
    "    # Code to execute if none of the above conditions are true\n",
    "```"
   ]
  }
 ],
 "metadata": {
  "language_info": {
   "name": "python"
  }
 },
 "nbformat": 4,
 "nbformat_minor": 2
}
