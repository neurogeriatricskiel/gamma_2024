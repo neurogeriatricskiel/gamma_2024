{
 "cells": [
  {
   "cell_type": "markdown",
   "metadata": {},
   "source": [
    "**Exercise 4**\n",
    "\n",
    "- Create a variable `step_count` and assign it a value representing the number of steps taken in a minute (e.g.:60).\n",
    "- Write an if-else statement that categorizes the activity level (`activity_level`) based on the step count:\n",
    "   - Less than 50 steps: print \"Sedentary\"\n",
    "   - Between 50 and 100 steps: print \"Light activity\"\n",
    "   - Between 100 and 150 steps: print \"Moderate activity\"\n",
    "   - Greater than 150 steps: print \"Vigorous activity\""
   ]
  }
 ],
 "metadata": {
  "language_info": {
   "name": "python"
  }
 },
 "nbformat": 4,
 "nbformat_minor": 2
}
