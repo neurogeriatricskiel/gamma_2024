{
 "cells": [
  {
   "cell_type": "markdown",
   "metadata": {},
   "source": [
    "**Exercise 2**\n",
    "\n",
    "- Create an integer variable `age` and assign your current age to it.\n",
    "- Create a float variable `height` and assign your height in meters.\n",
    "- Multiply your `age` by `height` and print the result."
   ]
  }
 ],
 "metadata": {
  "language_info": {
   "name": "python"
  }
 },
 "nbformat": 4,
 "nbformat_minor": 2
}
