{
 "cells": [
  {
   "cell_type": "markdown",
   "metadata": {},
   "source": [
    "**Exercise 7**\n",
    "\n",
    "Load and Plot Ankle Forces\n",
    "\n",
    "In this exercise, you will load data from a sample C3D file and plot the Right and Left Ankle Forces on the same graph. Follow the instructions below to complete the task.\n",
    "\n",
    "- **Set Up Your Environment**:\n",
    "   - Ensure you have the necessary libraries installed. If not, you can install them using pip:\n",
    "     ```bash\n",
    "     pip install c3d numpy matplotlib\n",
    "     ```\n",
    "\n",
    "- **Load the C3D Data**:\n",
    "   - Fetch the [sample_data.c3d](https://github.com/neurogeriatricskiel/gamma_2024/blob/main/datasets/c3d%20data/sample_data.c3d) file directly from our GitHub repository.\n",
    "   - Use the `c3d` package to read the C3D file and extract point data.\n",
    "\n",
    "- **Extract Ankle Force Data**:\n",
    "   - Identify the indices for the Right and Left Ankle Forces using the point labels:\n",
    "     - Right Ankle Force is usually labeled as `'A22:RAnkleForce              '`.\n",
    "     - Left Ankle Force is usually labeled as `'A22:LAnkleForce              '`.\n",
    "   - Extract the data for both Right and Left Ankle Forces from the point data.\n",
    "\n",
    "- **Plot the Data**:\n",
    "   - Use Matplotlib to create a plot that displays both Right and Left Ankle Forces.\n",
    "   - Add titles, axis labels, and a legend to differentiate between the two forces."
   ]
  }
 ],
 "metadata": {
  "language_info": {
   "name": "python"
  }
 },
 "nbformat": 4,
 "nbformat_minor": 2
}
