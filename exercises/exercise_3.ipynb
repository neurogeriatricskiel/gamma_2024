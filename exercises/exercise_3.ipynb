{
 "cells": [
  {
   "cell_type": "markdown",
   "metadata": {},
   "source": [
    "**Exercise 3**\n",
    "\n",
    "- Create a dictionary called `personal_info` with the following keys and values: `\"name\": \"your_name\"`, `\"age\": your_age`, `\"profession\": \"your_profession\"`.\n",
    "- Add a new key-value pair: `\"email\": \"your_email@example.com\"`.\n",
    "- Use a `for` loop to print each key and its corresponding value from the dictionary.\n"
   ]
  }
 ],
 "metadata": {
  "language_info": {
   "name": "python"
  }
 },
 "nbformat": 4,
 "nbformat_minor": 2
}
