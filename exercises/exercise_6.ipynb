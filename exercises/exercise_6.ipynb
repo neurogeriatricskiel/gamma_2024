{
 "cells": [
  {
   "cell_type": "markdown",
   "metadata": {},
   "source": [
    "### Exercise 6\n",
    "\n",
    "Create artificial data using `numpy` library and plot it as a simple line plot using `matplotlib` library.\n",
    "\n",
    "- **Step 0: Import Necessary Libraries**\n",
    "   - Import the required libraries.\n",
    "\n",
    "- **Step 1: Generate a Noisy Signal**\n",
    "   - Create a time vector `time` that spans from 0 to 10 seconds with 1000 samples using NumPy's `linspace` function.\n",
    "   - Create a noisy signal composed of a 2 Hz sine wave with added Gaussian noise.\n",
    "\n",
    "   **Tips:**\n",
    "   - For creating the noisy signal, you may use the following information:\n",
    "     - Sine signal: `A * sin(2π * f * time)` with `A = 10` and `f = 2` Hz.\n",
    "     - You can use `np.random.normal(loc, scale, size)` to generate the noise, where `loc` is the mean, `scale` is the standard deviation, and `size` is the number of samples.\n",
    "\n",
    "- **Step 2: Plot the Results**\n",
    "   - Use Matplotlib to plot the noisy signal.\n",
    "   - Add appropriate title and lables to plot, for example:\n",
    "\n",
    "    Title: `Line Plot of Sine Function`\n",
    "\n",
    "    Label for y-axis: `Amplitude`\n",
    "    \n",
    "    Label for x-axis: `Time(s)`"
   ]
  }
 ],
 "metadata": {
  "kernelspec": {
   "display_name": "gamma-2024-workshop",
   "language": "python",
   "name": "python3"
  },
  "language_info": {
   "codemirror_mode": {
    "name": "ipython",
    "version": 3
   },
   "file_extension": ".py",
   "mimetype": "text/x-python",
   "name": "python",
   "nbconvert_exporter": "python",
   "pygments_lexer": "ipython3",
   "version": "3.10.15"
  }
 },
 "nbformat": 4,
 "nbformat_minor": 2
}
