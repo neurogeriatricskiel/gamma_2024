{
 "cells": [
  {
   "cell_type": "markdown",
   "metadata": {},
   "source": [
    "**Exercise 6**\n",
    "\n",
    "Design and apply a Butterworth high-pass filter to a noisy signal. Follow the steps below to complete the task.\n",
    "\n",
    "- **Generate a Noisy Signal**:\n",
    "   - Create a time vector `t` that spans 0 to 10 seconds with 1000 points using NumPy's `linspace` function.\n",
    "   - Create a noisy signal composed of a 2 Hz sine wave and a 10 Hz sine wave with added Gaussian noise. \n",
    "     - You can use NumPy's `random.normal` to generate the noise.\n",
    "     - Amplitude = 10 for the 2 Hz sine wave.\n",
    "     - Amplitude = 5 for the 10 Hz sine wave.\n",
    "     - You may use directly this to save time: `data = 10 * np.sin(2 * np.pi * 2 * t) + 5 * np.sin(2 * np.pi * 10 * t) + np.random.normal(0, 1, 1000)`\n",
    "\n",
    "- **Design the High-Pass Filter**:\n",
    "   - Use SciPy's `butter` function to design a Butterworth high-pass filter. Set the cutoff frequency to 6 Hz and the sampling frequency to 100 Hz.\n",
    "   - Define a function `butter_highpass_filter(data, cutoff, fs, order=4)` that applies the filter to the input data.\n",
    "   - Use the `filtfilt` function from SciPy to apply the filter to your noisy signal.\n",
    "\n",
    "- **Plot the Results**:\n",
    "   - Use Matplotlib to plot both the original noisy signal and the filtered signal on the same graph.\n",
    "   - Add appropriate titles, axis labels, and a legend to distinguish between the original and filtered signals."
   ]
  }
 ],
 "metadata": {
  "language_info": {
   "name": "python"
  }
 },
 "nbformat": 4,
 "nbformat_minor": 2
}
