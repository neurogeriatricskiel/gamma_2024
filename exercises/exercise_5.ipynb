{
 "cells": [
  {
   "cell_type": "markdown",
   "metadata": {},
   "source": [
    "**Exercise 5**\n",
    "\n",
    "- Define a function named `calculate_distance` that takes two parameters: `velocity` (in meters per second) and `time` (in seconds). This function should calculate and return the distance using the formula: \n",
    "\n",
    "    `distance` = `velocity` × `time`\n",
    "\n",
    "- Call the function with example values (e.g., `velocity = 5` meters/second, `time = 12` seconds) and print the result.\n",
    "\n",
    "**Tip**: You need to define a function as follows:\n",
    "\n",
    "```python\n",
    "# Define the function\n",
    "def function_name(parameter_1, parameter_2):\n",
    "    # Code to execute: calculate distance here\n",
    "    return function_result\n",
    "\n",
    "# Example call to the function\n",
    "example_result = function_name(parameter_1=velocity_value, parameter_2=time_value) \n",
    "\n",
    "# Print the example result\n",
    "print(example_result)  \n",
    "```"
   ]
  }
 ],
 "metadata": {
  "language_info": {
   "name": "python"
  }
 },
 "nbformat": 4,
 "nbformat_minor": 2
}
