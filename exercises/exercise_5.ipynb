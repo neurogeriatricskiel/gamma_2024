{
 "cells": [
  {
   "cell_type": "markdown",
   "metadata": {},
   "source": [
    "**Exercise 5**\n",
    "\n",
    "- Define a function named `calculate_distance` that takes two parameters: `velocity` (in meters per second) and `time` (in seconds). This function should calculate and return the distance using the formula: \n",
    "\n",
    "    `distance` = `velocity` × `time`\n",
    "\n",
    "- Call the function with example values (e.g., `velocity = 5` meters/second, `time = 12` seconds) and print the result."
   ]
  }
 ],
 "metadata": {
  "language_info": {
   "name": "python"
  }
 },
 "nbformat": 4,
 "nbformat_minor": 2
}
